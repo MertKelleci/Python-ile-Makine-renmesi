{
 "cells": [
  {
   "cell_type": "markdown",
   "id": "87d83da8",
   "metadata": {},
   "source": [
    "## Decision Tree\n",
    "\n",
    "### Information Gain\n",
    "\n",
    "Decision Tree oluşturulurken dallanma sırası neye göre belirlenecek(ilk hangi özellikler kontrol edilecek)?\n",
    "\n",
    "#### Quinlan's ID3 Algorithm\n",
    "\n",
    "$$\\normalsize \\textrm{Info}(D) = - \\sum\\limits_{i=1}^{m}p_i log_2 (p_i)$$\n",
    "\n",
    "$$\\normalsize \\textrm{Info}_A (D)=\\sum\\limits_{j=1}^{v} \\frac{|D_j|}{D}\\times I(D_j)$$\n",
    "\n",
    "$$\\normalsize \\textrm{Gain}(A)=\\textrm{Info}(D)-\\textrm{Info}_A(D)$$\n",
    "\n",
    "#### Örnek\n",
    "Class P = buys_computer = \"yes\" $\\normalsize (\\frac{9}{14})$\n",
    "\n",
    "Class N = buys_computer = \"no\" $\\normalsize (\\frac{5}{14})$\n",
    "\n",
    "|age|p<sub>i</sub>|n<sub>i</sub>|I(p<sub>i</sub>),(n<sub>i</sub>)|\n",
    "|:---:|:---:|:---:|:---:|\n",
    "|<=30|2|3|0.971|\n",
    "|31...40|4|0|0|\n",
    "|>40|3|2|0.971|\n",
    "\n",
    "$$\\normalsize \\textrm{Info} (D) = I(9,5) = - \\frac{9}{14}log_2(\\frac{9}{14})-\\frac{5}{14}log_2(\\frac{5}{14})=0.940$$\n",
    "\n",
    "$$\\normalsize \\textrm{Info}_{age}(D)= \\frac{5}{14}I(2,3)+\\frac{4}{14}I(2,3)+\\frac{5}{14}I(3,2)=0.694$$\n",
    "\n",
    "$\\frac{5}{14}I(2,3)$  means \"age<=30\" has 5 out of 14 samples, with 2 yes'es and 3 no's. Hence:\n",
    "\n",
    "___Gain(age) = Info(D) - Info<sub>age</sub>(D)= 0.246___ \n",
    "\n",
    "Similarly,\n",
    "\n",
    "___Gain(income) = 0.029___\n",
    "\n",
    "___Gain(student) = 0.151___\n",
    "\n",
    "___Gain(credit_rating) = 0.0.048___"
   ]
  },
  {
   "cell_type": "code",
   "execution_count": 3,
   "id": "ff70158d",
   "metadata": {},
   "outputs": [
    {
     "data": {
      "text/plain": [
       "array([[177,  60,  22],\n",
       "       [190,  80,  25],\n",
       "       [193,  90,  23],\n",
       "       [129,  38,  12],\n",
       "       [135,  34,  10],\n",
       "       [180,  90,  30],\n",
       "       [187,  80,  27],\n",
       "       [185, 105,  33],\n",
       "       [175,  90,  35],\n",
       "       [183,  88,  28],\n",
       "       [133,  30,   9],\n",
       "       [130,  30,  10],\n",
       "       [174,  70,  47],\n",
       "       [160,  58,  39]], dtype=int64)"
      ]
     },
     "execution_count": 3,
     "metadata": {},
     "output_type": "execute_result"
    }
   ],
   "source": [
    "import numpy as np\n",
    "import pandas as pd\n",
    "\n",
    "veriler=pd.read_csv(\"veriler.csv\")\n",
    "\n",
    "x=veriler.iloc[:,1:4].values\n",
    "y=veriler.iloc[:,4:].values\n",
    "\n",
    "from sklearn.model_selection import train_test_split\n",
    "\n",
    "x_train, x_test, y_train, y_test = train_test_split(x,y,test_size=0.33, random_state=0)\n",
    "x_train"
   ]
  },
  {
   "cell_type": "code",
   "execution_count": 6,
   "id": "7d8ef7bd",
   "metadata": {},
   "outputs": [],
   "source": [
    "from sklearn.tree import DecisionTreeClassifier\n",
    "# default olarak gini kullanır, entropy'den farkı log2 tabanında almadan \n",
    "# çarpması yani karesini alması\n",
    "dtc = DecisionTreeClassifier(criterion=\"entropy\")"
   ]
  },
  {
   "cell_type": "code",
   "execution_count": 4,
   "id": "0715c58d",
   "metadata": {},
   "outputs": [],
   "source": [
    "dtc.fit(x_train,y_train)\n",
    "y_pred = dtc.predict(x_test)"
   ]
  },
  {
   "cell_type": "code",
   "execution_count": 5,
   "id": "3db2ca8b",
   "metadata": {},
   "outputs": [
    {
     "data": {
      "text/plain": [
       "array([[1, 0],\n",
       "       [1, 6]], dtype=int64)"
      ]
     },
     "execution_count": 5,
     "metadata": {},
     "output_type": "execute_result"
    }
   ],
   "source": [
    "from sklearn.metrics import confusion_matrix\n",
    "cm = confusion_matrix(y_true=y_test, y_pred=y_pred)\n",
    "cm"
   ]
  },
  {
   "cell_type": "markdown",
   "id": "4e33e2f7",
   "metadata": {},
   "source": [
    "## Random Forest"
   ]
  },
  {
   "cell_type": "code",
   "execution_count": 8,
   "id": "4eb430a1",
   "metadata": {},
   "outputs": [],
   "source": [
    "from sklearn.ensemble import RandomForestClassifier\n",
    "rfc = RandomForestClassifier(n_estimators=10, criterion=\"entropy\")"
   ]
  },
  {
   "cell_type": "code",
   "execution_count": 10,
   "id": "b75903ff",
   "metadata": {},
   "outputs": [],
   "source": [
    "import warnings\n",
    "warnings.filterwarnings(\"ignore\")"
   ]
  },
  {
   "cell_type": "code",
   "execution_count": 11,
   "id": "91bcb9f3",
   "metadata": {},
   "outputs": [],
   "source": [
    "rfc.fit(x_train, y_train)\n",
    "y_pred = rfc.predict(x_test)"
   ]
  },
  {
   "cell_type": "code",
   "execution_count": 12,
   "id": "c68266f5",
   "metadata": {},
   "outputs": [
    {
     "data": {
      "text/plain": [
       "array([[1, 0],\n",
       "       [0, 7]], dtype=int64)"
      ]
     },
     "execution_count": 12,
     "metadata": {},
     "output_type": "execute_result"
    }
   ],
   "source": [
    "from sklearn.metrics import confusion_matrix\n",
    "cm = confusion_matrix(y_true=y_test, y_pred=y_pred)\n",
    "cm"
   ]
  },
  {
   "cell_type": "code",
   "execution_count": null,
   "id": "42d456e2",
   "metadata": {},
   "outputs": [],
   "source": []
  }
 ],
 "metadata": {
  "kernelspec": {
   "display_name": "Python 3 (ipykernel)",
   "language": "python",
   "name": "python3"
  },
  "language_info": {
   "codemirror_mode": {
    "name": "ipython",
    "version": 3
   },
   "file_extension": ".py",
   "mimetype": "text/x-python",
   "name": "python",
   "nbconvert_exporter": "python",
   "pygments_lexer": "ipython3",
   "version": "3.10.13"
  }
 },
 "nbformat": 4,
 "nbformat_minor": 5
}
