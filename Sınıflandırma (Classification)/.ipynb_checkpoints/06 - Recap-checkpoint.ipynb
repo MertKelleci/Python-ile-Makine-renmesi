{
 "cells": [
  {
   "cell_type": "markdown",
   "id": "069a1f0c-1eff-4af4-92b8-6601e45323ff",
   "metadata": {},
   "source": [
    "<h1 style=\"text-align:center;\">Classification Algorithms Recaped</h1>"
   ]
  },
  {
   "cell_type": "markdown",
   "id": "e1c8be37-2159-4c32-97cb-cfe76e5605ee",
   "metadata": {},
   "source": [
    "## Confusion Matrix\n",
    "\n",
    "|$n=165$|**Predicted: NO**|**Predicted: YES**||\n",
    "|:---:|:---:|:---:|:---:|\n",
    "|**Actual: NO**|$TN=50$|$FP=60$|$60$|\n",
    "|**Actual: YES**|$FN=5$|$TP=100$|$105$|\n",
    "||$55$|$110$||"
   ]
  },
  {
   "cell_type": "markdown",
   "id": "12a82f2b-a2e2-4e2e-b553-4299df62ec9d",
   "metadata": {},
   "source": [
    "- **Accuracy**: How many *correct* classifications?\n",
    "    <br/><br/>\n",
    "    - $\\frac{(TP+TF)}{\\text{TOTAL}} = \\frac{(100+50)}{165} = 0.91$\n",
    "     <br/><br/>\n",
    "      <br/><br/>\n",
    "- **Misclassification Rate:** How many *wrong* classifications?\n",
    "     <br/><br/>\n",
    "    -  $\\frac{(FP+FN)}{\\text{TOTAL}} = \\frac{(10+5)}{165} = 0.09$\n",
    "       <br/><br/>\n",
    "    -  $1-\\text{Accuracy}$\n",
    "       <br/><br/>\n",
    "    -  Aka. ***Error Rate***.\n",
    "     <br/><br/>\n",
    "      <br/><br/>\n",
    "- **True Positive Rate:** How many of the actually *YES* were classified correctly?\n",
    "   <br/><br/>\n",
    "    - $\\frac{\\text{TP}}{\\text{Actually YES}} = \\frac{100}{105} = 0.95 $\n",
    "       <br/><br/>\n",
    "    - Aka. ***Sensitivity*** or ***Recall***\n",
    "     <br/><br/>\n",
    "      <br/><br/>\n",
    "- **False Positive Rate:** If the actual data is *NO*, how many of them are wrong?\n",
    "      <br/><br/>\n",
    "    - $\\frac{\\text{FP}}{\\text{Actual NO}} = \\frac{10}{60}=0.17$\n",
    "     <br/><br/>\n",
    " <br/><br/>\n",
    "- **Specificity:** How many of the actually *NO* were classified correctly?\n",
    "   <br/><br/>\n",
    "    - $\\frac{\\text{TN}}{\\text{Actual NO}} = \\frac{50}{60}=0.83$\n",
    "       <br/><br/>\n",
    "    - $1-\\text{False Positive Rate}$\n",
    "       <br/><br/>\n",
    "        <br/><br/>\n",
    "- **Precision:** If the prediction is *NO*, how many of them are correct?\n",
    "   <br/><br/>\n",
    "    - $\\frac{\\text{TP}}{\\text{Predicted YES}} = \\frac{100}{110}=0.91$\n",
    "       <br/><br/>\n",
    "       <br/><br/>\n",
    "- **Prevelance:** Percentage of the actully *YES*.\n",
    "   <br/><br/>\n",
    "    - $\\frac{\\text{Actual YES}}{\\text{TOTAL}} = \\frac{105}{165}=0.64$"
   ]
  },
  {
   "cell_type": "markdown",
   "id": "3197d415-d861-4c4e-b33e-242e1d474ff9",
   "metadata": {},
   "source": [
    "\n",
    "<div style=\"text-align: center;\">\n",
    "  <img src=\"cm.png\" alt=\"Confusion Matrix Değerlendirme\" width=\"600\">\n",
    "</div>\n"
   ]
  },
  {
   "cell_type": "markdown",
   "id": "33837fec-b512-4778-8a7b-dd629a79fe38",
   "metadata": {},
   "source": [
    "## Accuracy Paradox:\n",
    "\n",
    "#### A Model's Predictions:\n",
    "\n",
    "|| Prediction $C_1$| Prediction $C_2$|\n",
    "|:---:|:---:|:---:|\n",
    "|**Actual** $C_1$|9500|400|\n",
    "|**Actual** $C_2$|50|50|\n",
    "<div style=\"text-align:center;\">Accuracy: 95.5</div>\n",
    "\n",
    "<br></br>\n",
    "#### ZeroR Algorithm:\n",
    "\n",
    "Predicts everything as the most common class. Doesn't learn.\n",
    "\n",
    "|| Prediction $C_1$| Prediction $C_2$|\n",
    "|:---:|:---:|:---:|\n",
    "|**Actual** $C_1$|9900|0|\n",
    "|**Actual** $C_2$|100|0|\n",
    "\n",
    "<div style=\"text-align:center;\">Accuracy: 99.0</div>"
   ]
  }
 ],
 "metadata": {
  "kernelspec": {
   "display_name": "Python 3 (ipykernel)",
   "language": "python",
   "name": "python3"
  },
  "language_info": {
   "codemirror_mode": {
    "name": "ipython",
    "version": 3
   },
   "file_extension": ".py",
   "mimetype": "text/x-python",
   "name": "python",
   "nbconvert_exporter": "python",
   "pygments_lexer": "ipython3",
   "version": "3.12.8"
  }
 },
 "nbformat": 4,
 "nbformat_minor": 5
}
