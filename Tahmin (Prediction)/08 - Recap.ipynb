{
 "cells": [
  {
   "cell_type": "markdown",
   "id": "7ab9c8c5-044d-4c45-af30-9bcad2008ed0",
   "metadata": {},
   "source": [
    "<h1 style=\"text-align:center;\">Özet</h1>"
   ]
  },
  {
   "cell_type": "markdown",
   "id": "6dc96c40-e169-48f1-9c2e-109198e21f91",
   "metadata": {},
   "source": [
    "## Tahmin Modelleri:\n",
    "\n",
    "|Model|Artılar|Eksiler|\n",
    "|:---:|:---:|:---:|\n",
    "|**Linear Regression**|Veri boyutundan bağımsız olarak doğrusal ilişki üzerine kuruludur.|Doğrusallık kabulü aynı zamanda hatalıdır.|\n",
    "|**Polynomial Regression**|Doğrusal olmayan problemleri adresler.|Başarı için polinom derecesi önemlidir.|\n",
    "|**SVR**|Doğrusal olmayan modellerde çalışır, marjinal değerlere karşı ölçekleme ile dayanıklı olur.|Ölçekleme önemlidir, anlaşılması nispeten zordur, doğru kernel versiyonu seçimi önemlidir.|\n",
    "|**Decision Tree Regression**|Anlaşılabilirdir, ölçeklemeye ihtiyaç duymaz, doğrusal veya doğrusal olmayan problemlerde çalışır.|Sonuçlar sabitlenmiştir, küçük veri kümelerinde ezberleme olasılığı yüksektir.|\n",
    "|**Random Forest**|Ölçeklemeye ihtiyaç duymaz, doğrusal veya doğrusal olmayan problemlerde çalışır, ezber ve sabit sonuç riski düşüktür.|Çıktıların yorumu ve görsellemesi nispeten zordur.|"
   ]
  },
  {
   "cell_type": "markdown",
   "id": "8cde3c24-5cbd-4ed6-b81a-19ed55a05115",
   "metadata": {},
   "source": [
    "| **Model Type**                          | **Scaling Needed?**                | **Reason**                                                                                 |\n",
    "|-----------------------------------------|-------------------------------------|-------------------------------------------------------------------------------------------|\n",
    "| **Support Vector Machines (SVMs)**      | Yes                                 | SVMs rely on distance calculations; unscaled features can dominate and bias the solution. |\n",
    "| **Gradient Descent-based Models**       | Yes                                 | Gradient Descent is sensitive to feature magnitudes, affecting convergence and performance.|\n",
    "| **k-Nearest Neighbors (kNN)**           | Yes                                 | kNN uses distance to measure similarity; unscaled features can skew results.              |\n",
    "| **Principal Component Analysis (PCA)**  | Yes                                 | PCA depends on variance, which can be dominated by features with larger magnitudes.       |\n",
    "| **Linear Regression (without regularization)** | No                          | Scale affects coefficients but not the model's ability to fit data.                       |\n",
    "| **Linear Regression (with regularization)** | Yes                        | Regularization penalizes coefficients; unscaled features result in unequal penalization.  |\n",
    "| **Polynomial Regression**               | Sometimes                           | Scaling can help prevent numerical instability with high-degree polynomial terms.          |\n",
    "| **Decision Trees**                      | No                                  | Decision Trees split based on feature thresholds; scale doesn’t impact split decisions.   |\n",
    "| **Random Forests**                      | No                                  | Random Forests inherit Decision Trees' insensitivity to scaling.                          |\n",
    "| **Gradient Boosted Trees**              | No                                  | Similar to Decision Trees, scale doesn’t affect splits or performance.                    |\n",
    "| **Naive Bayes**                         | No                                  | Naive Bayes relies on probabilities, not feature magnitudes.                              |\n"
   ]
  },
  {
   "cell_type": "code",
   "execution_count": null,
   "id": "67fba2da-4e86-4a31-ae3b-75d59a7b424e",
   "metadata": {},
   "outputs": [],
   "source": []
  }
 ],
 "metadata": {
  "kernelspec": {
   "display_name": "Python 3 (ipykernel)",
   "language": "python",
   "name": "python3"
  },
  "language_info": {
   "codemirror_mode": {
    "name": "ipython",
    "version": 3
   },
   "file_extension": ".py",
   "mimetype": "text/x-python",
   "name": "python",
   "nbconvert_exporter": "python",
   "pygments_lexer": "ipython3",
   "version": "3.12.7"
  }
 },
 "nbformat": 4,
 "nbformat_minor": 5
}
