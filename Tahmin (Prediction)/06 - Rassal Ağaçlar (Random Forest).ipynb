{
 "cells": [
  {
   "cell_type": "markdown",
   "id": "a887e875",
   "metadata": {},
   "source": [
    "Kısa ve decision tree'ye benzer olduğu için direkt **05 - Karar Ağacı (Decision Tree)**'ye yazdım. "
   ]
  },
  {
   "cell_type": "code",
   "execution_count": null,
   "id": "6d641a01",
   "metadata": {},
   "outputs": [],
   "source": []
  }
 ],
 "metadata": {
  "kernelspec": {
   "display_name": "Python 3 (ipykernel)",
   "language": "python",
   "name": "python3"
  },
  "language_info": {
   "codemirror_mode": {
    "name": "ipython",
    "version": 3
   },
   "file_extension": ".py",
   "mimetype": "text/x-python",
   "name": "python",
   "nbconvert_exporter": "python",
   "pygments_lexer": "ipython3",
   "version": "3.11.5"
  }
 },
 "nbformat": 4,
 "nbformat_minor": 5
}
