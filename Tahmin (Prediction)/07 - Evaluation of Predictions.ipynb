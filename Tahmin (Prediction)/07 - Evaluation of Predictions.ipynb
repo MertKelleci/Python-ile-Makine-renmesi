{
 "cells": [
  {
   "cell_type": "markdown",
   "id": "93573f97",
   "metadata": {},
   "source": [
    "# R<sup>2</sup> Yöntemi:\n",
    "\n",
    "Hata Kareleri Toplamı = $\\sum$(Y$_i$ - Y'$_i$)<sup>2</sup>\n",
    "\n",
    "Ortalama Farkların Toplamı = $\\sum$(Y$_i$ - Y$_{ort}$)<sup>2</sup>\n",
    "\n",
    "**R<sup>2</sup>** = 1 - $\\frac{HKT}{OFT}$"
   ]
  },
  {
   "cell_type": "markdown",
   "id": "801e9964",
   "metadata": {},
   "source": [
    "## Adjusted R<sup>2</sup> Yöntemi:\n",
    "\n",
    "\n",
    "n = eleman sayısı\n",
    "p = değişken sayısı\n",
    "\n",
    "**Düzeltilmiş R<sup>2</sup>** = $1 - (1 - R^2) \\frac{n-1}{n-p-1}$"
   ]
  },
  {
   "cell_type": "code",
   "execution_count": 1,
   "id": "7a0b61a0",
   "metadata": {},
   "outputs": [],
   "source": [
    "from sklearn.metrics import r2_score"
   ]
  },
  {
   "cell_type": "code",
   "execution_count": 2,
   "id": "c3a45287",
   "metadata": {},
   "outputs": [
    {
     "data": {
      "text/plain": [
       "0.9486081370449679"
      ]
     },
     "execution_count": 2,
     "metadata": {},
     "output_type": "execute_result"
    }
   ],
   "source": [
    "y_true = [3, -0.5, 2, 7]\n",
    "y_pred = [2.5, 0.0, 2, 8]\n",
    "r2_score(y_true, y_pred)"
   ]
  },
  {
   "cell_type": "code",
   "execution_count": null,
   "id": "84a4c734",
   "metadata": {},
   "outputs": [],
   "source": []
  }
 ],
 "metadata": {
  "kernelspec": {
   "display_name": "Python 3 (ipykernel)",
   "language": "python",
   "name": "python3"
  },
  "language_info": {
   "codemirror_mode": {
    "name": "ipython",
    "version": 3
   },
   "file_extension": ".py",
   "mimetype": "text/x-python",
   "name": "python",
   "nbconvert_exporter": "python",
   "pygments_lexer": "ipython3",
   "version": "3.12.7"
  }
 },
 "nbformat": 4,
 "nbformat_minor": 5
}
