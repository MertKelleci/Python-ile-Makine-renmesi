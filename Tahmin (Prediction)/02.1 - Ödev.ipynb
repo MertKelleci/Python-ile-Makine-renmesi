{
 "cells": [
  {
   "cell_type": "code",
   "execution_count": 2,
   "id": "89756f5b",
   "metadata": {},
   "outputs": [
    {
     "ename": "TypeError",
     "evalue": "OneHotEncoder.__init__() got an unexpected keyword argument 'categorical_features'",
     "output_type": "error",
     "traceback": [
      "\u001b[1;31m---------------------------------------------------------------------------\u001b[0m",
      "\u001b[1;31mTypeError\u001b[0m                                 Traceback (most recent call last)",
      "Cell \u001b[1;32mIn[2], line 21\u001b[0m\n\u001b[0;32m     19\u001b[0m c \u001b[38;5;241m=\u001b[39m veriler2\u001b[38;5;241m.\u001b[39miloc[:,:\u001b[38;5;241m1\u001b[39m]\n\u001b[0;32m     20\u001b[0m \u001b[38;5;28;01mfrom\u001b[39;00m \u001b[38;5;21;01msklearn\u001b[39;00m\u001b[38;5;21;01m.\u001b[39;00m\u001b[38;5;21;01mpreprocessing\u001b[39;00m \u001b[38;5;28;01mimport\u001b[39;00m OneHotEncoder\n\u001b[1;32m---> 21\u001b[0m ohe \u001b[38;5;241m=\u001b[39m OneHotEncoder(categorical_features\u001b[38;5;241m=\u001b[39m\u001b[38;5;124m'\u001b[39m\u001b[38;5;124mall\u001b[39m\u001b[38;5;124m'\u001b[39m)\n\u001b[0;32m     22\u001b[0m c\u001b[38;5;241m=\u001b[39mohe\u001b[38;5;241m.\u001b[39mfit_transform(c)\u001b[38;5;241m.\u001b[39mtoarray()\n\u001b[0;32m     23\u001b[0m \u001b[38;5;28mprint\u001b[39m(c)\n",
      "\u001b[1;31mTypeError\u001b[0m: OneHotEncoder.__init__() got an unexpected keyword argument 'categorical_features'"
     ]
    }
   ],
   "source": [
    "#1. kutuphaneler\n",
    "import numpy as np\n",
    "import matplotlib.pyplot as plt\n",
    "import pandas as pd\n",
    "\n",
    "#2. Veri Onisleme\n",
    "\n",
    "#2.1. Veri Yukleme\n",
    "veriler = pd.read_csv('ödev.csv')\n",
    "#pd.read_csv(\"veriler.csv\")\n",
    "\n",
    "\n",
    "#veri on isleme\n",
    "\n",
    "#encoder:  Kategorik -> Numeric\n",
    "from sklearn import preprocessing\n",
    "veriler2 = veriler.apply(preprocessing.LabelEncoder().fit_transform)\n",
    "\n",
    "c = veriler2.iloc[:,:1]\n",
    "from sklearn.preprocessing import OneHotEncoder\n",
    "ohe = OneHotEncoder(categorical_features='all')\n",
    "c=ohe.fit_transform(c).toarray()\n",
    "print(c)\n",
    "\n",
    "havadurumu = pd.DataFrame(data = c, index = range(14), columns=['o','r','s'])\n",
    "sonveriler = pd.concat([havadurumu,veriler.iloc[:,1:3]],axis = 1)\n",
    "sonveriler = pd.concat([veriler2.iloc[:,-2:],sonveriler], axis = 1)\n",
    "\n",
    "\n",
    "#verilerin egitim ve test icin bolunmesi\n",
    "from sklearn.cross_validation import train_test_split\n",
    "x_train, x_test,y_train,y_test = train_test_split(sonveriler.iloc[:,:-1],sonveriler.iloc[:,-1:],test_size=0.33, random_state=0)\n",
    "\n",
    "from sklearn.linear_model import LinearRegression\n",
    "regressor = LinearRegression()\n",
    "regressor.fit(x_train,y_train)\n",
    "\n",
    "\n",
    "y_pred = regressor.predict(x_test)\n",
    "\n",
    "print(y_pred)\n",
    "#backward elimination\n",
    "import statsmodels.formula.api as sm \n",
    "X = np.append(arr = np.ones((14,1)).astype(int), values=sonveriler.iloc[:,:-1], axis=1 )\n",
    "X_l = sonveriler.iloc[:,[0,1,2,3,4,5]].values\n",
    "r_ols = sm.OLS(endog = sonveriler.iloc[:,-1:], exog =X_l)\n",
    "r = r_ols.fit()\n",
    "print(r.summary())\n",
    "\n",
    "sonveriler = sonveriler.iloc[:,1:]\n",
    "\n",
    "import statsmodels.formula.api as sm \n",
    "X = np.append(arr = np.ones((14,1)).astype(int), values=sonveriler.iloc[:,:-1], axis=1 )\n",
    "X_l = sonveriler.iloc[:,[0,1,2,3,4]].values\n",
    "r_ols = sm.OLS(endog = sonveriler.iloc[:,-1:], exog =X_l)\n",
    "r = r_ols.fit()\n",
    "print(r.summary())\n",
    "\n",
    "x_train = x_train.iloc[:,1:]\n",
    "x_test = x_test.iloc[:,1:]\n",
    "\n",
    "regressor.fit(x_train,y_train)\n",
    "\n",
    "\n",
    "y_pred = regressor.predict(x_test)"
   ]
  },
  {
   "cell_type": "code",
   "execution_count": null,
   "id": "cef2c039-2e56-4b22-a82c-0035ebaee7e2",
   "metadata": {},
   "outputs": [],
   "source": []
  }
 ],
 "metadata": {
  "kernelspec": {
   "display_name": "Python 3 (ipykernel)",
   "language": "python",
   "name": "python3"
  },
  "language_info": {
   "codemirror_mode": {
    "name": "ipython",
    "version": 3
   },
   "file_extension": ".py",
   "mimetype": "text/x-python",
   "name": "python",
   "nbconvert_exporter": "python",
   "pygments_lexer": "ipython3",
   "version": "3.12.7"
  }
 },
 "nbformat": 4,
 "nbformat_minor": 5
}
