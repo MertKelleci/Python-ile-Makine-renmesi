{
 "cells": [
  {
   "cell_type": "markdown",
   "id": "9ed6c5a1-9dbf-4b18-ad75-183603d25dc1",
   "metadata": {},
   "source": [
    "# Modellerin Değerlendirilmesi ve Seçimi\n",
    "\n",
    "- Modellerin başarısı, parametrelere bağlıdır.\n",
    "- Makine öğrenmesi parametreleri optimize etmez.\n",
    "- Model seçiminden önce dikkat edilmesi gereken ilk nokta, model değerlendirilmesidir (evaluation).\n",
    "- Şimdiye kadar test kümesindeki başarıyı ölçtük.\n",
    "- k-fold Cross Validation\n",
    "- Grid Search"
   ]
  },
  {
   "cell_type": "markdown",
   "id": "a5efff51-483f-4093-8d15-45d77e7c0602",
   "metadata": {},
   "source": [
    "## Hangi Modeli Seçeceğim?\n",
    "\n",
    "- Öncelikle modelin tipinin belirlenmesi\n",
    "    - Bağımlı değişken var mı? (Classification-Regression/Clustering)\n",
    "        - Bağımlı değişken kategorik mi sürekli bir sayı mı? (Classification/Regression)\n",
    "    - Doğrusal/doğrusal olmayan.\n",
    "\n",
    "\n",
    "***"
   ]
  },
  {
   "cell_type": "markdown",
   "id": "4043a219-8a43-4d93-ab44-7a75c0b3c90c",
   "metadata": {},
   "source": [
    "## K-Fold Cross Validation:\n",
    "\n",
    "<div style=\"text-align:center;\">\n",
    "    <img src=\"k-fold.png\" width=\"500\"/>\n",
    "</div>"
   ]
  },
  {
   "cell_type": "code",
   "execution_count": 1,
   "id": "02cc4740-7e0d-4f76-8a5a-b0a20c17aeb7",
   "metadata": {},
   "outputs": [
    {
     "data": {
      "text/plain": [
       "array([[64,  4],\n",
       "       [ 3, 29]], dtype=int64)"
      ]
     },
     "execution_count": 1,
     "metadata": {},
     "output_type": "execute_result"
    }
   ],
   "source": [
    "#1. kutuphaneler\n",
    "import numpy as np\n",
    "import matplotlib.pyplot as plt\n",
    "import pandas as pd\n",
    "\n",
    "# veri kümesi\n",
    "dataset = pd.read_csv('Social_Network_Ads.csv')\n",
    "X = dataset.iloc[:, [2, 3]].values\n",
    "y = dataset.iloc[:, 4].values\n",
    "\n",
    "# eğitim ve test kümelerinin bölünmesi\n",
    "from sklearn.model_selection import train_test_split\n",
    "X_train, X_test, y_train, y_test = train_test_split(X, y, test_size = 0.25, random_state = 0)\n",
    "\n",
    "# Ölçekleme\n",
    "from sklearn.preprocessing import StandardScaler\n",
    "sc = StandardScaler()\n",
    "X_train = sc.fit_transform(X_train)\n",
    "X_test = sc.transform(X_test)\n",
    "\n",
    "# SVM\n",
    "from sklearn.svm import SVC\n",
    "classifier = SVC(kernel = 'rbf', random_state = 0)\n",
    "classifier.fit(X_train, y_train)\n",
    "\n",
    "# Tahminler\n",
    "y_pred = classifier.predict(X_test)\n",
    "\n",
    "#  Confusion Matrix\n",
    "from sklearn.metrics import confusion_matrix\n",
    "confusion_matrix(y_test, y_pred)"
   ]
  },
  {
   "cell_type": "code",
   "execution_count": 4,
   "id": "e3a49dcc-0087-4584-9352-28db216bf4d1",
   "metadata": {},
   "outputs": [
    {
     "name": "stdout",
     "output_type": "stream",
     "text": [
      "0.8999999999999999\n",
      "0.03590109871423001\n"
     ]
    }
   ],
   "source": [
    "#k-katlamali capraz dogrulama \n",
    "from sklearn.model_selection import cross_val_score\n",
    "''' \n",
    "1. estimator : classifier (bizim durum)\n",
    "2. X\n",
    "3. Y\n",
    "4. cv : kaç katlamalı\n",
    "\n",
    "'''\n",
    "basari = cross_val_score(estimator = classifier, X=X_train, y=y_train , cv = 4)\n",
    "\n",
    "print(basari.mean())\n",
    "print(basari.std())"
   ]
  },
  {
   "cell_type": "markdown",
   "id": "1ae887d2-9715-4741-9477-95a0d7316266",
   "metadata": {},
   "source": [
    "***"
   ]
  },
  {
   "cell_type": "markdown",
   "id": "849ea7b8-d61a-474b-b97a-140c1f4d47cc",
   "metadata": {},
   "source": [
    "## Grid Search Cross Validation:"
   ]
  },
  {
   "cell_type": "code",
   "execution_count": 5,
   "id": "650b04bf-6041-4ef7-a7a5-57fb52fdcada",
   "metadata": {},
   "outputs": [
    {
     "name": "stdout",
     "output_type": "stream",
     "text": [
      "0.9066666666666666\n",
      "{'C': 4, 'kernel': 'rbf'}\n"
     ]
    }
   ],
   "source": [
    "from sklearn.model_selection import GridSearchCV\n",
    "p = [{'C':[1,2,3,4,5], 'kernel':['linear','rbf']},\n",
    "    {'C':[1,10,100], 'kernel':['rbf']}]\n",
    "\n",
    "'''\n",
    "GSCV parametreleri\n",
    "estimator : sınıflandırma algoritması (neyi optimize etmek istediğimiz)\n",
    "param_grid : parametreler/ denenecekler\n",
    "scoring: neye göre skorlanacak : örn : accuracy\n",
    "cv : kaç katlamalı olacağı\n",
    "n_jobs : aynı anda çalışacak iş\n",
    "'''\n",
    "gs = GridSearchCV(estimator= classifier, #SVM algoritması\n",
    "                  param_grid = p,\n",
    "                  scoring =  'accuracy',\n",
    "                  cv = 10,\n",
    "                  n_jobs = -1)\n",
    "\n",
    "grid_search = gs.fit(X_train,y_train)\n",
    "eniyisonuc = grid_search.best_score_\n",
    "eniyiparametreler = grid_search.best_params_\n",
    "\n",
    "print(eniyisonuc)\n",
    "print(eniyiparametreler)"
   ]
  }
 ],
 "metadata": {
  "kernelspec": {
   "display_name": "Python 3 (ipykernel)",
   "language": "python",
   "name": "python3"
  },
  "language_info": {
   "codemirror_mode": {
    "name": "ipython",
    "version": 3
   },
   "file_extension": ".py",
   "mimetype": "text/x-python",
   "name": "python",
   "nbconvert_exporter": "python",
   "pygments_lexer": "ipython3",
   "version": "3.10.13"
  }
 },
 "nbformat": 4,
 "nbformat_minor": 5
}
