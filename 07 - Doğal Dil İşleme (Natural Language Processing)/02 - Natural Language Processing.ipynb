{
 "cells": [
  {
   "cell_type": "markdown",
   "id": "bc14d713-da3d-44a1-bcb5-a5368dad21af",
   "metadata": {},
   "source": [
    "<h1 style=\"text-align:center;\">Natural Language Processing</h1>"
   ]
  },
  {
   "cell_type": "code",
   "execution_count": 1,
   "id": "51cf78ca-7005-487b-9cdd-f8de2c59aa26",
   "metadata": {},
   "outputs": [
    {
     "data": {
      "text/html": [
       "<div>\n",
       "<style scoped>\n",
       "    .dataframe tbody tr th:only-of-type {\n",
       "        vertical-align: middle;\n",
       "    }\n",
       "\n",
       "    .dataframe tbody tr th {\n",
       "        vertical-align: top;\n",
       "    }\n",
       "\n",
       "    .dataframe thead th {\n",
       "        text-align: right;\n",
       "    }\n",
       "</style>\n",
       "<table border=\"1\" class=\"dataframe\">\n",
       "  <thead>\n",
       "    <tr style=\"text-align: right;\">\n",
       "      <th></th>\n",
       "      <th>Review</th>\n",
       "      <th>Liked</th>\n",
       "    </tr>\n",
       "  </thead>\n",
       "  <tbody>\n",
       "    <tr>\n",
       "      <th>0</th>\n",
       "      <td>Wow... Loved this place.</td>\n",
       "      <td>1</td>\n",
       "    </tr>\n",
       "    <tr>\n",
       "      <th>1</th>\n",
       "      <td>Crust is not good.</td>\n",
       "      <td>0</td>\n",
       "    </tr>\n",
       "    <tr>\n",
       "      <th>2</th>\n",
       "      <td>Not tasty and the texture was just nasty.</td>\n",
       "      <td>0</td>\n",
       "    </tr>\n",
       "    <tr>\n",
       "      <th>3</th>\n",
       "      <td>Stopped by during the late May bank holiday of...</td>\n",
       "      <td>1</td>\n",
       "    </tr>\n",
       "    <tr>\n",
       "      <th>4</th>\n",
       "      <td>The selection on the menu was great and so wer...</td>\n",
       "      <td>1</td>\n",
       "    </tr>\n",
       "  </tbody>\n",
       "</table>\n",
       "</div>"
      ],
      "text/plain": [
       "                                              Review  Liked\n",
       "0                           Wow... Loved this place.      1\n",
       "1                                 Crust is not good.      0\n",
       "2          Not tasty and the texture was just nasty.      0\n",
       "3  Stopped by during the late May bank holiday of...      1\n",
       "4  The selection on the menu was great and so wer...      1"
      ]
     },
     "execution_count": 1,
     "metadata": {},
     "output_type": "execute_result"
    }
   ],
   "source": [
    "import numpy as np\n",
    "import pandas as pd\n",
    "import matplotlib.pyplot as plt\n",
    "\n",
    "data = pd.read_csv(\"Restaurant_Reviews.csv\", usecols=range(2))\n",
    "data.head()"
   ]
  },
  {
   "cell_type": "markdown",
   "id": "fc508579-138f-4256-a7c2-b1fdaabaca67",
   "metadata": {},
   "source": [
    "### Removing punctuation marks and splitting the sentence into words:"
   ]
  },
  {
   "cell_type": "code",
   "execution_count": 2,
   "id": "d7e06187-a21d-41d1-a8ad-d3a53308edf2",
   "metadata": {},
   "outputs": [],
   "source": [
    "import re"
   ]
  },
  {
   "cell_type": "code",
   "execution_count": 3,
   "id": "a2b646d9-4eaa-46f8-97c5-1665827d3950",
   "metadata": {},
   "outputs": [
    {
     "data": {
      "text/plain": [
       "['wow', 'loved', 'this', 'place']"
      ]
     },
     "execution_count": 3,
     "metadata": {},
     "output_type": "execute_result"
    }
   ],
   "source": [
    "comment = re.sub('[^a-zA-Z]',' ',data['Review'][0])\n",
    "comment = comment.lower().split()\n",
    "comment"
   ]
  },
  {
   "cell_type": "markdown",
   "id": "5aaa739b-04b9-4ed6-ac8c-2b5d0f89b67b",
   "metadata": {},
   "source": [
    "### Downloading and importing stopwords:"
   ]
  },
  {
   "cell_type": "code",
   "execution_count": 4,
   "id": "00cf0a1b-9c0a-4e88-b8a1-86e7bf28ee0e",
   "metadata": {},
   "outputs": [
    {
     "name": "stderr",
     "output_type": "stream",
     "text": [
      "[nltk_data] Downloading package stopwords to\n",
      "[nltk_data]     C:\\Users\\mrtke\\AppData\\Roaming\\nltk_data...\n",
      "[nltk_data]   Package stopwords is already up-to-date!\n"
     ]
    }
   ],
   "source": [
    "import nltk\n",
    "stopwords = nltk.download('stopwords')"
   ]
  },
  {
   "cell_type": "code",
   "execution_count": 5,
   "id": "86c23818-a357-4c98-bced-a957a739cfb3",
   "metadata": {},
   "outputs": [],
   "source": [
    "from nltk.corpus import stopwords"
   ]
  },
  {
   "cell_type": "markdown",
   "id": "5ba5bd29-1ad6-4916-b579-1b43a292368a",
   "metadata": {},
   "source": [
    "### Getting the stems of words and removing stopwords:"
   ]
  },
  {
   "cell_type": "code",
   "execution_count": 6,
   "id": "1828d255-cffd-4a13-904d-8a58b19419fe",
   "metadata": {},
   "outputs": [],
   "source": [
    "from nltk.stem.porter import PorterStemmer\n",
    "ps = PorterStemmer()"
   ]
  },
  {
   "cell_type": "code",
   "execution_count": 7,
   "id": "788e8ef0-f95a-4e2a-8655-9fb657896f84",
   "metadata": {},
   "outputs": [],
   "source": [
    "comment = [ps.stem(word) for word in comment if not word in set(stopwords.words('english'))]"
   ]
  },
  {
   "cell_type": "markdown",
   "id": "8dcf6a8e-7159-42af-bd4f-b3a6a493326d",
   "metadata": {},
   "source": [
    "*This creates a list of stems of words which are not stopwords.*"
   ]
  },
  {
   "cell_type": "code",
   "execution_count": 8,
   "id": "5e1d76de-8c3b-4005-9307-c8c2af5ef08c",
   "metadata": {},
   "outputs": [
    {
     "data": {
      "text/plain": [
       "['wow', 'love', 'place']"
      ]
     },
     "execution_count": 8,
     "metadata": {},
     "output_type": "execute_result"
    }
   ],
   "source": [
    "comment"
   ]
  },
  {
   "cell_type": "markdown",
   "id": "ffab6649-9243-483d-bd24-613afbc91d3f",
   "metadata": {},
   "source": [
    "### Putting back the list of words as a sentence to be analyzed:"
   ]
  },
  {
   "cell_type": "code",
   "execution_count": 9,
   "id": "3d10a4f9-6cc1-426b-9e24-a1139fa7f736",
   "metadata": {},
   "outputs": [
    {
     "data": {
      "text/plain": [
       "'wow love place'"
      ]
     },
     "execution_count": 9,
     "metadata": {},
     "output_type": "execute_result"
    }
   ],
   "source": [
    "comment = ' '.join(comment)\n",
    "comment"
   ]
  },
  {
   "cell_type": "markdown",
   "id": "db6fe107-a081-47a4-9820-fc0924ec1f4e",
   "metadata": {},
   "source": [
    "*This is the format we want and we can apply this process to the entire dataset.*\n",
    "\n",
    "### Preprocessing the dataframe:"
   ]
  },
  {
   "cell_type": "code",
   "execution_count": 10,
   "id": "849833d6-9909-493a-9edd-46a54c821c7a",
   "metadata": {},
   "outputs": [
    {
     "data": {
      "text/html": [
       "<div>\n",
       "<style scoped>\n",
       "    .dataframe tbody tr th:only-of-type {\n",
       "        vertical-align: middle;\n",
       "    }\n",
       "\n",
       "    .dataframe tbody tr th {\n",
       "        vertical-align: top;\n",
       "    }\n",
       "\n",
       "    .dataframe thead th {\n",
       "        text-align: right;\n",
       "    }\n",
       "</style>\n",
       "<table border=\"1\" class=\"dataframe\">\n",
       "  <thead>\n",
       "    <tr style=\"text-align: right;\">\n",
       "      <th></th>\n",
       "      <th>Review</th>\n",
       "      <th>Liked</th>\n",
       "    </tr>\n",
       "  </thead>\n",
       "  <tbody>\n",
       "    <tr>\n",
       "      <th>0</th>\n",
       "      <td>Wow... Loved this place.</td>\n",
       "      <td>1</td>\n",
       "    </tr>\n",
       "    <tr>\n",
       "      <th>1</th>\n",
       "      <td>Crust is not good.</td>\n",
       "      <td>0</td>\n",
       "    </tr>\n",
       "    <tr>\n",
       "      <th>2</th>\n",
       "      <td>Not tasty and the texture was just nasty.</td>\n",
       "      <td>0</td>\n",
       "    </tr>\n",
       "    <tr>\n",
       "      <th>3</th>\n",
       "      <td>Stopped by during the late May bank holiday of...</td>\n",
       "      <td>1</td>\n",
       "    </tr>\n",
       "    <tr>\n",
       "      <th>4</th>\n",
       "      <td>The selection on the menu was great and so wer...</td>\n",
       "      <td>1</td>\n",
       "    </tr>\n",
       "  </tbody>\n",
       "</table>\n",
       "</div>"
      ],
      "text/plain": [
       "                                              Review  Liked\n",
       "0                           Wow... Loved this place.      1\n",
       "1                                 Crust is not good.      0\n",
       "2          Not tasty and the texture was just nasty.      0\n",
       "3  Stopped by during the late May bank holiday of...      1\n",
       "4  The selection on the menu was great and so wer...      1"
      ]
     },
     "execution_count": 10,
     "metadata": {},
     "output_type": "execute_result"
    }
   ],
   "source": [
    "data.head()"
   ]
  },
  {
   "cell_type": "code",
   "execution_count": 11,
   "id": "89c36db0-03b1-4e84-814f-a6c6635a4df6",
   "metadata": {},
   "outputs": [],
   "source": [
    "comments = []\n",
    "for i in range(len(data)):\n",
    "    comment = re.sub('[^a-zA-Z]',' ',data['Review'][i]).lower().split()\n",
    "    comment = [ps.stem(word) for word in comment if not word in set(stopwords.words('english'))]\n",
    "    comments.append(' '.join(comment))\n",
    "\n",
    "data['Review'] = comments"
   ]
  },
  {
   "cell_type": "code",
   "execution_count": 12,
   "id": "697878aa-082a-48a6-b2cf-a0d2f1ae4430",
   "metadata": {},
   "outputs": [
    {
     "data": {
      "text/html": [
       "<div>\n",
       "<style scoped>\n",
       "    .dataframe tbody tr th:only-of-type {\n",
       "        vertical-align: middle;\n",
       "    }\n",
       "\n",
       "    .dataframe tbody tr th {\n",
       "        vertical-align: top;\n",
       "    }\n",
       "\n",
       "    .dataframe thead th {\n",
       "        text-align: right;\n",
       "    }\n",
       "</style>\n",
       "<table border=\"1\" class=\"dataframe\">\n",
       "  <thead>\n",
       "    <tr style=\"text-align: right;\">\n",
       "      <th></th>\n",
       "      <th>Review</th>\n",
       "      <th>Liked</th>\n",
       "    </tr>\n",
       "  </thead>\n",
       "  <tbody>\n",
       "    <tr>\n",
       "      <th>0</th>\n",
       "      <td>wow love place</td>\n",
       "      <td>1</td>\n",
       "    </tr>\n",
       "    <tr>\n",
       "      <th>1</th>\n",
       "      <td>crust good</td>\n",
       "      <td>0</td>\n",
       "    </tr>\n",
       "    <tr>\n",
       "      <th>2</th>\n",
       "      <td>tasti textur nasti</td>\n",
       "      <td>0</td>\n",
       "    </tr>\n",
       "    <tr>\n",
       "      <th>3</th>\n",
       "      <td>stop late may bank holiday rick steve recommen...</td>\n",
       "      <td>1</td>\n",
       "    </tr>\n",
       "    <tr>\n",
       "      <th>4</th>\n",
       "      <td>select menu great price</td>\n",
       "      <td>1</td>\n",
       "    </tr>\n",
       "  </tbody>\n",
       "</table>\n",
       "</div>"
      ],
      "text/plain": [
       "                                              Review  Liked\n",
       "0                                     wow love place      1\n",
       "1                                         crust good      0\n",
       "2                                 tasti textur nasti      0\n",
       "3  stop late may bank holiday rick steve recommen...      1\n",
       "4                            select menu great price      1"
      ]
     },
     "execution_count": 12,
     "metadata": {},
     "output_type": "execute_result"
    }
   ],
   "source": [
    "data.head()"
   ]
  },
  {
   "cell_type": "markdown",
   "id": "71ac072a-8d05-4b6d-9408-e60d7fa0e97c",
   "metadata": {},
   "source": [
    "### Feature Extraction\n",
    "\n",
    "#### Bag of Words"
   ]
  },
  {
   "cell_type": "code",
   "execution_count": 13,
   "id": "a8cb1e03-5fd7-4c23-a28d-e94c3083b00c",
   "metadata": {},
   "outputs": [],
   "source": [
    "from sklearn.feature_extraction.text import CountVectorizer\n",
    "cv = CountVectorizer(max_features=1000)"
   ]
  },
  {
   "cell_type": "code",
   "execution_count": 14,
   "id": "feaf12fa-3fb1-4309-9931-7d21c006d0c7",
   "metadata": {},
   "outputs": [],
   "source": [
    "X=cv.fit_transform(data['Review']).toarray()\n",
    "Y=data.iloc[:,1].values"
   ]
  },
  {
   "cell_type": "markdown",
   "id": "d118c04c-f0a3-4191-baf6-8466b674db3d",
   "metadata": {},
   "source": [
    "### Machine Learning"
   ]
  },
  {
   "cell_type": "code",
   "execution_count": 15,
   "id": "7e3f9ac9-4564-4d60-b984-df45c6dffcf2",
   "metadata": {},
   "outputs": [],
   "source": [
    "from sklearn.model_selection import train_test_split"
   ]
  },
  {
   "cell_type": "code",
   "execution_count": 16,
   "id": "1a20c59d-ee33-4ae3-8226-0b7d2912fb0d",
   "metadata": {},
   "outputs": [],
   "source": [
    "x_train, x_test, y_train, y_test = train_test_split(X,Y, test_size=0.33, random_state=0)"
   ]
  },
  {
   "cell_type": "code",
   "execution_count": 17,
   "id": "f9fbeae9-4d0c-431d-97a4-2a1862b1515c",
   "metadata": {},
   "outputs": [],
   "source": [
    "from sklearn.naive_bayes import GaussianNB\n",
    "gnb = GaussianNB()"
   ]
  },
  {
   "cell_type": "code",
   "execution_count": 19,
   "id": "77fb53e4-dab0-4c31-ae2f-494d2e0e4aa9",
   "metadata": {},
   "outputs": [],
   "source": [
    "gnb.fit(x_train,y_train)\n",
    "\n",
    "y_pred = gnb.predict(x_test)"
   ]
  },
  {
   "cell_type": "code",
   "execution_count": 20,
   "id": "b1818f51-6702-4569-aca4-776a43f69bd0",
   "metadata": {},
   "outputs": [
    {
     "data": {
      "text/plain": [
       "array([[ 87,  72],\n",
       "       [ 26, 145]], dtype=int64)"
      ]
     },
     "execution_count": 20,
     "metadata": {},
     "output_type": "execute_result"
    }
   ],
   "source": [
    "from sklearn.metrics import confusion_matrix\n",
    "cm = confusion_matrix(y_test,y_pred)\n",
    "\n",
    "cm"
   ]
  }
 ],
 "metadata": {
  "kernelspec": {
   "display_name": "Python 3 (ipykernel)",
   "language": "python",
   "name": "python3"
  },
  "language_info": {
   "codemirror_mode": {
    "name": "ipython",
    "version": 3
   },
   "file_extension": ".py",
   "mimetype": "text/x-python",
   "name": "python",
   "nbconvert_exporter": "python",
   "pygments_lexer": "ipython3",
   "version": "3.12.8"
  }
 },
 "nbformat": 4,
 "nbformat_minor": 5
}
