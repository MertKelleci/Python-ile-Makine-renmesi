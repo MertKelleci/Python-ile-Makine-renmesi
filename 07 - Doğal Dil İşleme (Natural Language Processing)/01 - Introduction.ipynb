{
 "cells": [
  {
   "cell_type": "markdown",
   "id": "157fdd33-6946-438e-99df-30f8d040c103",
   "metadata": {},
   "source": [
    "<h1 style=\"text-align:center;\">Natural Language Processing (Doğal Dil İşleme)</h1>"
   ]
  },
  {
   "cell_type": "markdown",
   "id": "fd1c54f2-460b-45e5-9a28-6fde2f8b61cd",
   "metadata": {},
   "source": [
    "- Hedefler:\n",
    "    - Natural Language Understanding\n",
    "    - Natural Language Generation\n",
    "<br><br/>\n",
    "- Yaklaşımlar:\n",
    "    - Linguistik Yaklaşım\n",
    "        - Pragmatics\n",
    "        - Syntax\n",
    "        - Semantics\n",
    "        - Morphology\n",
    "    - İstatistiksel Yaklaşımlar\n",
    "        - N-gram\n",
    "        - TF-IDF\n",
    "        - Word-Gram\n",
    "        - BOW (Bag Of Words)\n",
    "    - Hibrit Yaklaşımlar"
   ]
  },
  {
   "cell_type": "markdown",
   "id": "aeb4d7b1-a1de-41c9-b7ed-8898286a90e5",
   "metadata": {},
   "source": [
    "## Örnek 1: Yazar Tanıma\n",
    "\n",
    "- Linguistik Yaklaşım\n",
    "    - POS-Tagging (Part of Speech Tagging)\n",
    "<br><br/>\n",
    "- İstatistiksel Yaklaşım\n",
    "    - İstatistiksel Dağılım\n",
    "<br><br/>\n",
    "- Hibrit Yaklaşımlar\n",
    "    - Metindeki kelime tiplerinin dağılımı ve cümle yapıları"
   ]
  },
  {
   "cell_type": "markdown",
   "id": "e1725b94-e8d9-44dc-83d4-d345de64e58b",
   "metadata": {},
   "source": [
    "## Örnek 2: Metin Sınıflandırma\n",
    "\n",
    "- Linguistik Yaklaşım\n",
    "    - Örüntü tanımı (isim tamlaması, sınıf tamlaması vs.)\n",
    "<br><br/>\n",
    "- İstatistiksel Yaklaşım\n",
    "    - İstatistiksel Dağılım\n",
    "<br><br/>\n",
    "- Hibrit Yaklaşımlar\n",
    "    - Örüntü dağılımı sınıflandırma"
   ]
  },
  {
   "cell_type": "markdown",
   "id": "841b01ec-e05a-4f51-a830-d305d95aafae",
   "metadata": {},
   "source": [
    "## Örnek 3: Duygusal Kutupsallık (Sentimental Polarity), Fikir Madenciliği (Opinion Mining)\n",
    "\n",
    "- Linguistik Yaklaşım\n",
    "    - Kelime anlam çıkarımı (olumlu veya olumsuz)\n",
    "<br><br/>\n",
    "- İstatistiksel Yaklaşım\n",
    "    - Kelime tanımlı sözlükler veya örüntüler\n",
    "<br><br/>\n",
    "- Hibrit Yaklaşımlar\n",
    "    - Duygu Analizi (Sentimental Analysis)"
   ]
  }
 ],
 "metadata": {
  "kernelspec": {
   "display_name": "Python 3 (ipykernel)",
   "language": "python",
   "name": "python3"
  },
  "language_info": {
   "codemirror_mode": {
    "name": "ipython",
    "version": 3
   },
   "file_extension": ".py",
   "mimetype": "text/x-python",
   "name": "python",
   "nbconvert_exporter": "python",
   "pygments_lexer": "ipython3",
   "version": "3.12.8"
  }
 },
 "nbformat": 4,
 "nbformat_minor": 5
}
