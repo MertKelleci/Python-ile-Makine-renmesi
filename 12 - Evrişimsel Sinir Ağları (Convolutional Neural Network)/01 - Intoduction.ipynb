{
 "cells": [
  {
   "cell_type": "markdown",
   "id": "73689016-9b0d-4b9b-aadc-8c692ca56f36",
   "metadata": {},
   "source": [
    "<h1 style=\"text-align:center;\">Convolutional Neural Networks<h1/>\n",
    "\n",
    "<div style=\"text-align:center;\">\n",
    "    <img src=\"cnn1.png\" width=\"900\"/>\n",
    "</div>\n",
    "<div style=\"text-align:center;\">\n",
    "    <img src=\"cnn2.png\" width=\"900\"/>\n",
    "</div>\n",
    "\n",
    "***\n",
    "\n",
    "## Convolution:\n",
    "\n",
    "<div style=\"text-align:center;\">\n",
    "    <img src=\"cv1.png\" width=\"500\"/>\n",
    "    <img src=\"cv2.png\" width=\"500\"/>\n",
    "</div>\n",
    "\n",
    "\n",
    "### Step 1-2 (Filter 1 Being Used):\n",
    "\n",
    "<div style=\"text-align:center;\">\n",
    "    <img src=\"cvs1.png\" width=\"500\"/>\n",
    "    <img src=\"cvs2.png\" width=\"500\"/>\n",
    "</div>\n",
    "\n",
    "### Step 3-...n:\n",
    "\n",
    "<div style=\"text-align:center;\">\n",
    "    <img src=\"cvs3.png\" width=\"500\"/>\n",
    "    <img src=\"cvs4.png\" width=\"500\"/>\n",
    "</div>\n",
    "\n",
    "### Final Step - Colored Images:\n",
    "\n",
    "<div style=\"text-align:center;\">\n",
    "    <img src=\"cvs5.png\" width=\"500\"/>\n",
    "    <img src=\"cvs6.png\" width=\"500\"/>\n",
    "</div>\n",
    "\n",
    "<div style=\"text-align:center;\">\n",
    "    <img src=\"cvs7.png\" width=\"900\"/>\n",
    "</div>\n",
    "\n",
    "\n"
   ]
  },
  {
   "cell_type": "markdown",
   "id": "7a597fa6-ba40-415d-a653-731824f4a40a",
   "metadata": {},
   "source": [
    "***\n",
    "\n",
    "## Pooling:\n",
    "\n",
    "<div style=\"text-align:center;\">\n",
    "    <img src=\"mpool.png\" width=\"500\"/>\n",
    "    <img src=\"mpool1.png\" width=\"500\"/>\n",
    "</div>\n",
    "<div style=\"text-align:center;\">\n",
    "    <img src=\"mpool2.png\" width=\"900\"/>\n",
    "</div>"
   ]
  },
  {
   "cell_type": "markdown",
   "id": "dbd7e588-586d-4187-a2dd-ef5f11237d55",
   "metadata": {},
   "source": [
    "***\n",
    "\n",
    "## Flattening:\n",
    "\n",
    "<div style=\"text-align:center;\">\n",
    "    <img src=\"flt1.png\" width=\"1000\"/>\n",
    "</div>"
   ]
  }
 ],
 "metadata": {
  "kernelspec": {
   "display_name": "Python 3 (ipykernel)",
   "language": "python",
   "name": "python3"
  },
  "language_info": {
   "codemirror_mode": {
    "name": "ipython",
    "version": 3
   },
   "file_extension": ".py",
   "mimetype": "text/x-python",
   "name": "python",
   "nbconvert_exporter": "python",
   "pygments_lexer": "ipython3",
   "version": "3.10.13"
  }
 },
 "nbformat": 4,
 "nbformat_minor": 5
}
