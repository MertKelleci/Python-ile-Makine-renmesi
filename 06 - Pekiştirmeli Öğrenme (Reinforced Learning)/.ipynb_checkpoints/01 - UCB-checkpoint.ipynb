{
 "cells": [
  {
   "cell_type": "markdown",
   "id": "2fb7bcb4-cdcd-44fc-a504-c3e4d15e2e46",
   "metadata": {},
   "source": [
    "<h1 style=\"text-align:center;\">UCB (Upper Confidence Bound)</h1>"
   ]
  },
  {
   "cell_type": "markdown",
   "id": "49fca963-261a-4037-a1c2-f3e76fab7b6e",
   "metadata": {},
   "source": [
    "- Kullanıcı her seferinde bir eylem yapar (event - e).\n",
    "- Bu eylem karşılığında bir skor döner (örneğin web tıklaması 1 ve tıklanmaması 0)\n",
    "- Amaç tıklamaları maksimuma çıkarmak."
   ]
  },
  {
   "cell_type": "markdown",
   "id": "a26ee4a2-8c78-4888-8e0f-ed3c09d5e0d4",
   "metadata": {},
   "source": [
    "- **Adım 1:** Her turda (tur sayısı n olsun), her reklam alternatifi (i için) aşağıdaki sayılar tutulur:\n",
    "    - $N_i(n): i$ sayılı reklamın o ana kadarki tıklama sayısı.\n",
    "    - $R_i(n):$ O ana kadarki $i$ reklamından gelen toplam ödül.\n",
    "    <br/><br/>\n",
    "- **Adım 2:** Yukarıdaki bu iki sayıdan, aşağıdaki değerler hesaplanır:\n",
    "    - O ana kadarki her reklamın ortalama ödülü: $\\frac{R_i(n)}{N_i(n)}$\n",
    "    - Güven aralığı için aşağı ve yukarı oynama potansiyeli: $d_i(n)=\\sqrt{\\frac{3}{2}\\frac{log(n)}{N_i(n)}}$\n",
    "    - $ \\text{UCB} = \\frac{R_i(n)}{N_i(n)} + d_i(n)$\n",
    "    <br/><br/>\n",
    "- **Adım 3:** En yüksek **UCB** değerine sahip olan alınır"
   ]
  },
  {
   "cell_type": "code",
   "execution_count": 3,
   "id": "c2af5dc9-dd31-463d-9205-2a2b3af6b1b9",
   "metadata": {},
   "outputs": [],
   "source": [
    "import numpy as np\n",
    "import pandas as pd\n",
    "import matplotlib.pyplot as plt\n",
    "import math\n",
    "\n",
    "data = pd.read_csv('Ads_CTR_Optimisation.csv')"
   ]
  },
  {
   "cell_type": "code",
   "execution_count": 2,
   "id": "39240f84-da62-417c-8abf-beb0ad89ce92",
   "metadata": {},
   "outputs": [
    {
     "ename": "SyntaxError",
     "evalue": "incomplete input (518258845.py, line 1)",
     "output_type": "error",
     "traceback": [
      "\u001b[1;36m  Cell \u001b[1;32mIn[2], line 1\u001b[1;36m\u001b[0m\n\u001b[1;33m    for n in range(0,N):\u001b[0m\n\u001b[1;37m                        ^\u001b[0m\n\u001b[1;31mSyntaxError\u001b[0m\u001b[1;31m:\u001b[0m incomplete input\n"
     ]
    }
   ],
   "source": [
    "rewards = [0] * 10\n",
    "clicks = [0] * 10\n",
    "chosen = []\n",
    "total = 0\n",
    "\n",
    "for n in range(0,10000):\n",
    "    ad = 0\n",
    "    max_ucb = 0\n",
    "    for i in range(0,10):\n",
    "        if clicks[i]>0:\n",
    "            average = rewards[i]/clicks[i]\n",
    "            delta = math.sqrt(3/2*math.log(n)/clicks[i])\n",
    "            ucb = average + delta\n",
    "        else:\n",
    "            ucb = 10000\n",
    "        if max_ucb < ucb:\n",
    "            max_ucb=ucb\n",
    "            ad = i\n",
    "    chosen.append(ad)\n",
    "    reward = data.values[n,ad]\n",
    "    total += reward"
   ]
  }
 ],
 "metadata": {
  "kernelspec": {
   "display_name": "Python 3 (ipykernel)",
   "language": "python",
   "name": "python3"
  },
  "language_info": {
   "codemirror_mode": {
    "name": "ipython",
    "version": 3
   },
   "file_extension": ".py",
   "mimetype": "text/x-python",
   "name": "python",
   "nbconvert_exporter": "python",
   "pygments_lexer": "ipython3",
   "version": "3.12.8"
  }
 },
 "nbformat": 4,
 "nbformat_minor": 5
}
