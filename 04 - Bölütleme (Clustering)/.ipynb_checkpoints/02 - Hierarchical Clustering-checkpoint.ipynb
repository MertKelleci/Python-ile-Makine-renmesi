{
 "cells": [
  {
   "cell_type": "markdown",
   "id": "8f3333b2-293a-4b67-9670-6cf746ca059f",
   "metadata": {},
   "source": [
    "<h1 style=\"text-align:center;\">Hierarchical Clustering</h1>"
   ]
  },
  {
   "cell_type": "markdown",
   "id": "6fea386d-885c-486f-bd2d-5fc27f66e929",
   "metadata": {},
   "source": [
    "İki farklı yaklaşımla çalışır:\n",
    "\n",
    "- **Agglomerative:**\n",
    "    - Buttom-up approach.\n",
    "    - Her veri tek bir küme/bölüt ile başlar.\n",
    "    - En yakın ikişer komşuyu alıp ikişerli küme/bölüt oluşturulur.\n",
    "    - En yakın iki kümeyi alıp yeni bir bölüt oluşturur.\n",
    "    - Bir önceki adım, tek bir küme/bölüt olana kadar devam eder.\n",
    "- **Divisive:**\n",
    "    - Top-down approach."
   ]
  },
  {
   "cell_type": "markdown",
   "id": "60e98055-ff12-44dc-bbf8-df697c608768",
   "metadata": {},
   "source": [
    "<div style=\"text-align:center;\">\n",
    "    <img src=\"hc1.png\" width=\"700\">\n",
    "</div>"
   ]
  },
  {
   "cell_type": "markdown",
   "id": "dbbd3107-31de-4c64-b73e-9c3a477dbf23",
   "metadata": {},
   "source": [
    "Buradaki problemlerden birisi ise mesafe ölçümünün nasıl yapılacağıdır.\n",
    "1. Metrik Problemi:\n",
    "    - Öklit Mesafesi\n",
    "2. Referanslar:\n",
    "    - En Yakın Noktalar\n",
    "    - En Uzak Noktalar\n",
    "    - Ortalama\n",
    "    - Merkezler arası mesafe"
   ]
  },
  {
   "cell_type": "code",
   "execution_count": null,
   "id": "7e6f36c1-66fd-43ca-89f7-9d527f5629fb",
   "metadata": {},
   "outputs": [],
   "source": []
  }
 ],
 "metadata": {
  "kernelspec": {
   "display_name": "Python 3 (ipykernel)",
   "language": "python",
   "name": "python3"
  },
  "language_info": {
   "codemirror_mode": {
    "name": "ipython",
    "version": 3
   },
   "file_extension": ".py",
   "mimetype": "text/x-python",
   "name": "python",
   "nbconvert_exporter": "python",
   "pygments_lexer": "ipython3",
   "version": "3.12.8"
  }
 },
 "nbformat": 4,
 "nbformat_minor": 5
}
