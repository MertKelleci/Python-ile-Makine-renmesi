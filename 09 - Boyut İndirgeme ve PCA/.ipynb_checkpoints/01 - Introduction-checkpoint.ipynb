{
 "cells": [
  {
   "cell_type": "markdown",
   "id": "6f2e10f3-b438-4cdd-bfc6-b3401a84ec3c",
   "metadata": {},
   "source": [
    "<h1 style=\"text-align:center;\">Principal Component Analysis</h1>\n",
    "\n",
    "## Kullanım Alanları:\n",
    "- Gürültü Filtreleme\n",
    "- Görselleştirme\n",
    "- Öznitelik Çıkarımı\n",
    "- Öznitelik Eleme/Dönüştürme\n",
    "- Borsa Analizi\n",
    "- Sağlık Verileri/Genetik Veriler\n",
    "\n",
    "\n",
    "## What is PCA?\n",
    "\n",
    "<div style=\"text-align:center;\"><img src=\"pca1.png\" width=\"500\"/></div>\n",
    "\n",
    "<br><br/>\n",
    "<br><br/>\n",
    "\n",
    "### Dimensionality Reduction:\n",
    "\n",
    "<div style=\"text-align:center;\"><img src=\"pca2.png\" width=\"1000\"/></div>"
   ]
  },
  {
   "cell_type": "markdown",
   "id": "11d3b923-ad6a-412c-b9b2-10355b39c95d",
   "metadata": {},
   "source": [
    "### Eigen Value & Eigen Vector:\n",
    "\n",
    "- Rastgele bir matris alalım.\n",
    "- Bu matrisi tek boyutlu bir matris ile çarparsak:\n",
    "\n",
    "$$ \\begin{pmatrix} 1 & 2 & 0 \\\\ 0 & 1 & 2 \\\\ 1 & 0 & 2 \\end{pmatrix} *  \\begin{pmatrix} 1 \\\\ 1 \\\\ 0 \\end{pmatrix} =  \\begin{pmatrix} 3 \\\\ 3 \\\\ 0 \\end{pmatrix} = 3 \\begin{pmatrix} 1 \\\\ 1 \\\\ 0 \\end{pmatrix}$$\n",
    "\n",
    "$$\\text{or}$$\n",
    "\n",
    "$$ \\begin{pmatrix} 1 & 2 & 0 \\\\ 0 & 1 & 2 \\\\ 1 & 0 & 2 \\end{pmatrix} *  \\begin{pmatrix} 1 \\\\ 1 \\\\ 1 \\end{pmatrix} =  \\begin{pmatrix} 3 \\\\ 3 \\\\ 3 \\end{pmatrix} = 3 \\begin{pmatrix} 1 \\\\ 1 \\\\ 1 \\end{pmatrix}$$\n",
    "\n",
    "- Eğer bu çarpım, çarpanın herhangi bir skalar katını veriyorsa bu skalar öz değer (eigen value), bu vektör öz yöneydir (eigen vector).\n",
    "\n",
    "$$A\\nu = \\lambda\\text{(eigen value)}*\\nu\\text{(eigen vector)}$$\n",
    "\n",
    "### PCA Algoritması:\n",
    "\n",
    "- İndirgenmek istenen boyut **k** olsun.\n",
    "- Veriyi standartlaştır\n",
    "- *Covariance* veya *Correlation* matrisinden öz değerleri ve öz vektörleri elde et, veya *SVD* kullan.\n",
    "- Öz değerleri büyükten küçüğe sırala ve **k** tanesini al\n",
    "- seçilen **k** öz değerden **W** projecksiyon matrisini oluştur.\n",
    "- Orijinal veri kümesi **X**'i **W** kullanarak dönümtür ve **k**-boyutlu **Y** uzayını elde et."
   ]
  },
  {
   "cell_type": "markdown",
   "id": "9ac4a89f-0617-42b6-86cb-eacb0b186974",
   "metadata": {},
   "source": [
    "***"
   ]
  },
  {
   "cell_type": "markdown",
   "id": "e59c11dc-a2c2-4a16-b760-9fa97ccedf9e",
   "metadata": {},
   "source": [
    "<h1 style=\"text-align:center;\">Linear Discriminant Analysis</h1>"
   ]
  },
  {
   "cell_type": "markdown",
   "id": "aefe8518-49ca-4a1d-8b92-51307799484a",
   "metadata": {},
   "source": [
    "- PCA benzeri bir boyut dönüştürme/indirgeme yapar.\n",
    "- PCA'den farklı olarak sınıflar arasındaki ayrımı önemser ve maksimize etmeye çalışır.\n",
    "- PCA bu açıdan gözetimsiz (unsupervised), LDA ise gözetimli (supervised) özelliktedir.\n",
    "\n",
    "\n",
    "<div style=\"text-align:center;\">\n",
    "    <img src=\"pcavslda.png\" width=\"1000\"/>\n",
    "</div>"
   ]
  },
  {
   "cell_type": "code",
   "execution_count": null,
   "id": "895a1ad3-11e2-49f2-b3bb-7411234781f6",
   "metadata": {},
   "outputs": [],
   "source": []
  }
 ],
 "metadata": {
  "kernelspec": {
   "display_name": "Python 3 (ipykernel)",
   "language": "python",
   "name": "python3"
  },
  "language_info": {
   "codemirror_mode": {
    "name": "ipython",
    "version": 3
   },
   "file_extension": ".py",
   "mimetype": "text/x-python",
   "name": "python",
   "nbconvert_exporter": "python",
   "pygments_lexer": "ipython3",
   "version": "3.10.13"
  }
 },
 "nbformat": 4,
 "nbformat_minor": 5
}
