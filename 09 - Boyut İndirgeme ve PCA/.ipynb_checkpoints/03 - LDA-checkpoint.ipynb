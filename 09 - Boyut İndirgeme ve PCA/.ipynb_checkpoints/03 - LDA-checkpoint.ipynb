{
 "cells": [
  {
   "cell_type": "code",
   "execution_count": 1,
   "id": "50e5d5b3-e428-43e3-8794-cd2cbb8ad965",
   "metadata": {},
   "outputs": [],
   "source": [
    "import numpy as np\n",
    "import pandas as pd\n",
    "import matplotlib.pyplot as plt\n",
    "\n",
    "data = pd.read_csv(\"Wine.csv\")\n",
    "X = data.iloc[:,:13].values\n",
    "Y = data.iloc[:,13].values\n",
    "\n",
    "from sklearn.model_selection import train_test_split\n",
    "\n",
    "x_train, x_test, y_train, y_test = train_test_split(X, Y, test_size=0.33, random_state=0)\n",
    "\n",
    "from sklearn.preprocessing import StandardScaler\n",
    "sc = StandardScaler()\n",
    "\n",
    "X_train = sc.fit_transform(x_train)\n",
    "X_test = sc.transform(x_test)"
   ]
  },
  {
   "cell_type": "code",
   "execution_count": 2,
   "id": "843f2ab7-664e-4df7-83af-b0358aa0dec6",
   "metadata": {},
   "outputs": [
    {
     "data": {
      "text/plain": [
       "3"
      ]
     },
     "execution_count": 2,
     "metadata": {},
     "output_type": "execute_result"
    }
   ],
   "source": [
    "data['Customer_Segment'].nunique()"
   ]
  },
  {
   "cell_type": "markdown",
   "id": "44dbe3e7-a533-4ca9-957e-3a8b770000fd",
   "metadata": {},
   "source": [
    "## LDA:\n",
    "\n",
    "*Important: When fiting LDA, you give y_train value with X_train value because you LDA maximises the distance between classes.\\\n",
    "Another thing to point out is that the maximum number of components that LDA can generate can calculated with the following:*\n",
    "\n",
    "$$\\text{min(n\\_features, n\\_classes - 1)}$$\n",
    "\n",
    "*In this case:*\n",
    "- `n_features=13` *(columns in* `X_train` *after scaling)*\n",
    "- `n_classes=3` *(number of unique values in* `Customer_Segment`*)*\n",
    "\n",
    "Thus:\n",
    "\n",
    "$$\\text{n\\_components} \\le min(13,3-1) = 2$$"
   ]
  },
  {
   "cell_type": "code",
   "execution_count": 3,
   "id": "5d5694a0-ccbf-46ca-a422-b744e9400cb0",
   "metadata": {},
   "outputs": [],
   "source": [
    "from sklearn.discriminant_analysis import LinearDiscriminantAnalysis as LDA\n",
    "lda = LDA(n_components=2)"
   ]
  },
  {
   "cell_type": "code",
   "execution_count": 4,
   "id": "ac30d841-ae0a-49d6-8a8b-b312147fda6a",
   "metadata": {},
   "outputs": [],
   "source": [
    "X_train_lda = lda.fit_transform(X_train, y_train)\n",
    "X_test_lda = lda.transform(X_test)"
   ]
  },
  {
   "cell_type": "code",
   "execution_count": 5,
   "id": "b32113ec-307b-4781-a8a3-0b8bd06b63e3",
   "metadata": {},
   "outputs": [],
   "source": [
    "from sklearn.linear_model import LogisticRegression\n",
    "\n",
    "classifier = LogisticRegression(random_state=0)\n",
    "classifier.fit(X_train_lda,y_train)\n",
    "\n",
    "classifier2 = LogisticRegression(random_state=0)\n",
    "classifier2.fit(X_train,y_train)\n",
    "\n",
    "y_pred_lda = classifier.predict(X_test_lda)\n",
    "y_pred = classifier2.predict(X_test)\n",
    "\n",
    "from sklearn.metrics import confusion_matrix"
   ]
  },
  {
   "cell_type": "markdown",
   "id": "63002057-51f0-4539-814f-e8969ca41f20",
   "metadata": {},
   "source": [
    "### LDA Results Confusion Matrix:"
   ]
  },
  {
   "cell_type": "code",
   "execution_count": 6,
   "id": "99d8e7a1-2b37-41ca-8744-7e2355591ae2",
   "metadata": {},
   "outputs": [
    {
     "data": {
      "text/plain": [
       "array([[20,  0,  0],\n",
       "       [ 0, 24,  0],\n",
       "       [ 0,  0, 15]], dtype=int64)"
      ]
     },
     "execution_count": 6,
     "metadata": {},
     "output_type": "execute_result"
    }
   ],
   "source": [
    "confusion_matrix(y_test, y_pred_lda)"
   ]
  },
  {
   "cell_type": "markdown",
   "id": "a255acd0-b5f5-49d9-b8a6-949015bac129",
   "metadata": {},
   "source": [
    "### Non-LDA Results Confusion Matrix:"
   ]
  },
  {
   "cell_type": "code",
   "execution_count": 7,
   "id": "25482b60-53e6-4269-952b-fc3d977f5dc3",
   "metadata": {},
   "outputs": [
    {
     "data": {
      "text/plain": [
       "array([[20,  0,  0],\n",
       "       [ 0, 24,  0],\n",
       "       [ 0,  0, 15]], dtype=int64)"
      ]
     },
     "execution_count": 7,
     "metadata": {},
     "output_type": "execute_result"
    }
   ],
   "source": [
    "confusion_matrix(y_test,y_pred)"
   ]
  },
  {
   "cell_type": "markdown",
   "id": "8e1cfe5c-0064-4be1-8598-92299e828fa0",
   "metadata": {},
   "source": [
    "### LDA & Non-LDA Confusion Matrix:"
   ]
  },
  {
   "cell_type": "code",
   "execution_count": 8,
   "id": "594557df-cc49-468c-83d5-5d290189a745",
   "metadata": {},
   "outputs": [
    {
     "data": {
      "text/plain": [
       "array([[20,  0,  0],\n",
       "       [ 0, 24,  0],\n",
       "       [ 0,  0, 15]], dtype=int64)"
      ]
     },
     "execution_count": 8,
     "metadata": {},
     "output_type": "execute_result"
    }
   ],
   "source": [
    "confusion_matrix(y_pred_lda, y_pred)"
   ]
  }
 ],
 "metadata": {
  "kernelspec": {
   "display_name": "Python 3 (ipykernel)",
   "language": "python",
   "name": "python3"
  },
  "language_info": {
   "codemirror_mode": {
    "name": "ipython",
    "version": 3
   },
   "file_extension": ".py",
   "mimetype": "text/x-python",
   "name": "python",
   "nbconvert_exporter": "python",
   "pygments_lexer": "ipython3",
   "version": "3.10.13"
  }
 },
 "nbformat": 4,
 "nbformat_minor": 5
}
