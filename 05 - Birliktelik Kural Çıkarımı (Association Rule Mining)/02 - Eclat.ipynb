{
 "cells": [
  {
   "cell_type": "markdown",
   "id": "2d62a2ae-0ab9-41c7-9f71-280f4c230ea5",
   "metadata": {},
   "source": [
    "<h1 style=\"text-align:center;\">Eclat Algorithm</h1>"
   ]
  },
  {
   "cell_type": "markdown",
   "id": "c388fdaa-fadb-46d2-81c4-e923d30f93da",
   "metadata": {},
   "source": [
    "**Apriori:** Breadth First Search\\\n",
    "**Eclat:** Depth First Search"
   ]
  },
  {
   "cell_type": "markdown",
   "id": "2ba3f155-2232-4f5e-ae0a-35c118d4becf",
   "metadata": {},
   "source": [
    "<div style=\"text-align:center;\">\n",
    "    <img src=\"eclat1.png\" width=\"700\">\n",
    "</div>"
   ]
  }
 ],
 "metadata": {
  "kernelspec": {
   "display_name": "Python 3 (ipykernel)",
   "language": "python",
   "name": "python3"
  },
  "language_info": {
   "codemirror_mode": {
    "name": "ipython",
    "version": 3
   },
   "file_extension": ".py",
   "mimetype": "text/x-python",
   "name": "python",
   "nbconvert_exporter": "python",
   "pygments_lexer": "ipython3",
   "version": "3.12.8"
  }
 },
 "nbformat": 4,
 "nbformat_minor": 5
}
