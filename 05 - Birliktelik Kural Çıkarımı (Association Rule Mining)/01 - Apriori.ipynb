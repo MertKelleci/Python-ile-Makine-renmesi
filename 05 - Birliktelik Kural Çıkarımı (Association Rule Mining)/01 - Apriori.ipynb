{
 "cells": [
  {
   "cell_type": "markdown",
   "id": "2b6cdb6b-a3ef-45bf-8b87-9276c42e5e01",
   "metadata": {},
   "source": [
    "<h1 style=\"text-align:center\">Apriori Algorithm</h1>"
   ]
  },
  {
   "cell_type": "markdown",
   "id": "1f3233fa-9c1c-4853-9772-4c871b46734b",
   "metadata": {},
   "source": [
    "## Veri Tabanı:\n",
    "\n",
    "|Transaction|İçerik|\n",
    "|:---:|:---:|\n",
    "|T1|a,b,c|\n",
    "|T2|a,c|\n",
    "|T3|a,e,c|\n",
    "|T4|f,a|\n",
    "|T5|f,e|\n",
    "\n",
    "## Kurallar:\n",
    "\n",
    "|X=>Y|S|A|\n",
    "|:---:|:---:|:---:|\n",
    "|a->c|%60|%75|\n",
    "|c->a|%60|%100|\n",
    "|e->a|%20|%50|\n",
    "|c->b|%20|%33.3|\n",
    "|b->c|%20|%100|\n",
    "|b->f|%0|%0|"
   ]
  },
  {
   "cell_type": "markdown",
   "id": "bb5c154f-3e25-4e6c-8a30-b52f3b200174",
   "metadata": {},
   "source": [
    "$$\\text{Support(a)} = \\frac{\\text{a Varligini Iceren Eylemler}}{\\text{Toplam Eylem Sayisi}}$$\n",
    "\n",
    "$$\\text{Confidence(a=>b)} = \\frac{\\text{a ve b Varliklarini Iceren Eylemler}}{\\text{a Varligini İceren Eylemler}}$$\n",
    "\n",
    "$$\\text{Lift(a=>b)} = \\frac{\\text{Confidence(a=>b)}}{\\text{Support(b)}}$$"
   ]
  },
  {
   "cell_type": "markdown",
   "id": "7d6214dd-b623-4eff-9baa-2b4f1b9d1cf5",
   "metadata": {},
   "source": [
    "## Olay Sıklığı\n",
    "\n",
    "<div style=\"text-align:center;\">\n",
    "    <img src=\"os1.png\" width=600>\n",
    "</div>\n",
    "\n",
    "<div style=\"text-align:center;\">\n",
    "    <img src=\"os2.png\" width=600>\n",
    "</div>"
   ]
  },
  {
   "cell_type": "code",
   "execution_count": 6,
   "id": "5e2a6867-1f53-4145-819d-457b2ecab700",
   "metadata": {},
   "outputs": [],
   "source": [
    "import numpy as np\n",
    "import pandas as pd\n",
    "import matplotlib.pyplot as plt\n",
    "\n",
    "data = pd.read_csv('sepet.csv', header=None)"
   ]
  },
  {
   "cell_type": "code",
   "execution_count": 5,
   "id": "323b991e-7f4e-419b-9887-cfd21541770c",
   "metadata": {},
   "outputs": [
    {
     "name": "stdout",
     "output_type": "stream",
     "text": [
      "[RelationRecord(items=frozenset({'ground beef', 'herb & pepper'}), support=0.015997866951073192, ordered_statistics=[OrderedStatistic(items_base=frozenset({'herb & pepper'}), items_add=frozenset({'ground beef'}), confidence=0.3234501347708895, lift=3.2919938411349285)]), RelationRecord(items=frozenset({'ground beef', 'nan', 'herb & pepper'}), support=0.015997866951073192, ordered_statistics=[OrderedStatistic(items_base=frozenset({'nan', 'herb & pepper'}), items_add=frozenset({'ground beef'}), confidence=0.3234501347708895, lift=3.2919938411349285)])]\n"
     ]
    }
   ],
   "source": [
    "t = []\n",
    "for i in range (0,7501):\n",
    "    t.append([str(data.values[i,j]) for j in range (0,20)])\n",
    "\n",
    "from apyori import apriori\n",
    "kurallar = apriori(t,min_support=0.01, min_confidence=0.2, min_lift = 3, min_length=2)\n",
    "\n",
    "print(list(kurallar))"
   ]
  }
 ],
 "metadata": {
  "kernelspec": {
   "display_name": "Python 3 (ipykernel)",
   "language": "python",
   "name": "python3"
  },
  "language_info": {
   "codemirror_mode": {
    "name": "ipython",
    "version": 3
   },
   "file_extension": ".py",
   "mimetype": "text/x-python",
   "name": "python",
   "nbconvert_exporter": "python",
   "pygments_lexer": "ipython3",
   "version": "3.10.13"
  }
 },
 "nbformat": 4,
 "nbformat_minor": 5
}
