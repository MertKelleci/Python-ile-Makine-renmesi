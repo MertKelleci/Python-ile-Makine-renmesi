{
 "cells": [
  {
   "cell_type": "code",
   "execution_count": 1,
   "id": "1681736e",
   "metadata": {},
   "outputs": [],
   "source": [
    "import numpy as np\n",
    "import pandas as pd\n",
    "import matplotlib.pyplot as plt"
   ]
  },
  {
   "cell_type": "code",
   "execution_count": 3,
   "id": "fce9cd9f",
   "metadata": {},
   "outputs": [],
   "source": [
    "veriler = pd.read_csv(\"veriler.csv\")"
   ]
  },
  {
   "cell_type": "code",
   "execution_count": 9,
   "id": "f148e444",
   "metadata": {},
   "outputs": [],
   "source": [
    "veriler2 = pd.read_csv(\"eksikveriler.csv\")"
   ]
  },
  {
   "cell_type": "code",
   "execution_count": 11,
   "id": "f5d98b71",
   "metadata": {},
   "outputs": [],
   "source": [
    "from sklearn.impute import SimpleImputer"
   ]
  },
  {
   "cell_type": "code",
   "execution_count": 12,
   "id": "59674ec1",
   "metadata": {},
   "outputs": [],
   "source": [
    "imputer = SimpleImputer(missing_values=np.nan, strategy=\"mean\")"
   ]
  },
  {
   "cell_type": "code",
   "execution_count": 18,
   "id": "185e1f7a",
   "metadata": {},
   "outputs": [],
   "source": [
    "yas=veriler2.iloc[:,1:4].values"
   ]
  },
  {
   "cell_type": "code",
   "execution_count": null,
   "id": "ed4e5022",
   "metadata": {},
   "outputs": [],
   "source": []
  },
  {
   "cell_type": "code",
   "execution_count": null,
   "id": "e5cfa195",
   "metadata": {},
   "outputs": [],
   "source": []
  },
  {
   "cell_type": "code",
   "execution_count": 15,
   "id": "35e8f44f",
   "metadata": {},
   "outputs": [],
   "source": [
    "imputer=imputer.fit(yas)"
   ]
  },
  {
   "cell_type": "code",
   "execution_count": 16,
   "id": "167b88f0",
   "metadata": {},
   "outputs": [],
   "source": [
    "yas = imputer.transform(yas)"
   ]
  },
  {
   "cell_type": "code",
   "execution_count": 17,
   "id": "75e1bccf",
   "metadata": {},
   "outputs": [
    {
     "data": {
      "text/plain": [
       "array([[130.  ,  30.  ,  10.  ],\n",
       "       [125.  ,  36.  ,  11.  ],\n",
       "       [135.  ,  34.  ,  10.  ],\n",
       "       [133.  ,  30.  ,   9.  ],\n",
       "       [129.  ,  38.  ,  12.  ],\n",
       "       [180.  ,  90.  ,  30.  ],\n",
       "       [190.  ,  80.  ,  25.  ],\n",
       "       [175.  ,  90.  ,  35.  ],\n",
       "       [177.  ,  60.  ,  22.  ],\n",
       "       [185.  , 105.  ,  33.  ],\n",
       "       [165.  ,  55.  ,  27.  ],\n",
       "       [155.  ,  50.  ,  44.  ],\n",
       "       [160.  ,  58.  ,  28.45],\n",
       "       [162.  ,  59.  ,  41.  ],\n",
       "       [167.  ,  62.  ,  55.  ],\n",
       "       [174.  ,  70.  ,  47.  ],\n",
       "       [193.  ,  90.  ,  28.45],\n",
       "       [187.  ,  80.  ,  27.  ],\n",
       "       [183.  ,  88.  ,  28.  ],\n",
       "       [159.  ,  40.  ,  29.  ],\n",
       "       [164.  ,  66.  ,  32.  ],\n",
       "       [166.  ,  56.  ,  42.  ]])"
      ]
     },
     "execution_count": 17,
     "metadata": {},
     "output_type": "execute_result"
    }
   ],
   "source": [
    "yas"
   ]
  },
  {
   "cell_type": "code",
   "execution_count": null,
   "id": "2cbd9235",
   "metadata": {},
   "outputs": [],
   "source": []
  }
 ],
 "metadata": {
  "kernelspec": {
   "display_name": "Python 3 (ipykernel)",
   "language": "python",
   "name": "python3"
  },
  "language_info": {
   "codemirror_mode": {
    "name": "ipython",
    "version": 3
   },
   "file_extension": ".py",
   "mimetype": "text/x-python",
   "name": "python",
   "nbconvert_exporter": "python",
   "pygments_lexer": "ipython3",
   "version": "3.11.5"
  }
 },
 "nbformat": 4,
 "nbformat_minor": 5
}
