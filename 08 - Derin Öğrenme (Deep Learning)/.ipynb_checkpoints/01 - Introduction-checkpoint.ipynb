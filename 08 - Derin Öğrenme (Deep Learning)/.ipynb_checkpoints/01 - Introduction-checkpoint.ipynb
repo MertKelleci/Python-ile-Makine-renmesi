{
 "cells": [
  {
   "cell_type": "markdown",
   "id": "7bae0329-8c39-4a5b-af84-0c579c5e0cf1",
   "metadata": {},
   "source": [
    "<h1 style=\"text-align:center;\">Artificial Neural Networks</h1>\n",
    "\n",
    "<div style=\"text-align:center\">\n",
    "    <img src=\"ann1.png\" width=\"1000\"/>\n",
    "</div>\n",
    "\n",
    "$$\\text{Noron Uzerindeki Sinyal: } \\sum_{i=1}^{m}w_ix_i$$\n",
    "\n",
    "\n",
    "$$\\text{Noron Uzerindeki Aktivasyon: } \\phi\\bigg(\\sum_{i=1}^{m}w_ix_i\\bigg)$$\n"
   ]
  },
  {
   "cell_type": "markdown",
   "id": "7ab36944-0b34-4aa5-91e4-d6fa5ea15cb5",
   "metadata": {},
   "source": [
    "## Activation Functions:\n",
    "\n",
    "<div style=\"text-align:center\">\n",
    "    <img src=\"sigmoid1.png\" width=\"500\"/>\n",
    "</div>\n",
    "\n",
    "\n",
    "$$\\sigma(t)=\\frac{e^t}{e^t+1}=\\frac{1}{1+e^{-t}}$$\n",
    "\n",
    "$$t=\\beta_0+\\beta_1x$$\n",
    "\n",
    "$$p(x)=\\frac{1}{1+e^{-(\\beta_0+\\beta_1x)}}$$\n",
    "\n",
    "$$\\beta_0+\\beta_1x_1+\\beta_2x_2+\\beta_mx_m=\\beta_0+\\sum_{i=1}^m\\beta_ix_i$$"
   ]
  },
  {
   "cell_type": "markdown",
   "id": "be8cefb6-4410-4fe5-a7ff-553e78a40284",
   "metadata": {},
   "source": [
    "### Step Function:\n",
    "\n",
    "<div style=\"text-align:center\">\n",
    "    <img src=\"step1.png\" width=\"700\"/>\n",
    "</div>"
   ]
  },
  {
   "cell_type": "markdown",
   "id": "79f6ba26-ccf3-40cd-ac27-ebd95d993fea",
   "metadata": {},
   "source": [
    " ### Sigmoid Function:\n",
    "\n",
    " <div style=\"text-align:center\">\n",
    "    <img src=\"sigmoid2.png\" width=\"700\"/>\n",
    "</div>"
   ]
  },
  {
   "attachments": {},
   "cell_type": "markdown",
   "id": "bb4c5d2a-45b4-40bd-8c37-e7fcb796aa4d",
   "metadata": {},
   "source": [
    "### Rectifier Function:\n",
    "\n",
    "<div style=\"text-align:center\">\n",
    "    <img src=\"rectifier1.png\" width=\"700\"/>\n",
    "</div>"
   ]
  },
  {
   "cell_type": "markdown",
   "id": "791b9798-ee81-41a2-b83f-2dbc89d36b3c",
   "metadata": {},
   "source": [
    "### Hyperbolic Tangent\n",
    "\n",
    "<div style=\"text-align:center\">\n",
    "    <img src=\"hyperbolic tangent1.png\" width=\"700\"/>\n",
    "</div>"
   ]
  },
  {
   "cell_type": "markdown",
   "id": "8bdcc9a4-d955-4240-91d5-31b35f175200",
   "metadata": {},
   "source": [
    "## What Do Layers Do?\n",
    "\n",
    "### AND Gate:\n",
    "<div style=\"text-align:center\">\n",
    "    <img src=\"andg1.png\" width=\"700\"/>\n",
    "</div>\n",
    "\n",
    "\n",
    "### OR Gate:\n",
    "\n",
    "<div style=\"text-align:center\">\n",
    "    <img src=\"org1.png\" width=\"700\"/>\n",
    "</div>\n",
    "\n",
    "\n",
    "### XOR Gate:\n",
    "\n",
    "<div style=\"text-align:center\">\n",
    "    <img src=\"xorg1.png\" width=\"1000\"/>\n",
    "</div>\n",
    "<div style=\"text-align:center\">\n",
    "    <em>This chart here explains why XOR gate can't be solved with a single neuron.<em/>\n",
    "    <br><br/>\n",
    "    <br><br/>\n",
    "    <em>So instead what we need are two neurons:<em/>\n",
    "</div>\n",
    "\n",
    "<div style=\"text-align:center\">\n",
    "    <img src=\"xorg2.png\" width=\"1000\"/>\n",
    "</div>\n"
   ]
  },
  {
   "cell_type": "markdown",
   "id": "ed20ac11-c14e-4b67-b735-51ca7304291a",
   "metadata": {},
   "source": [
    "## How Does an ANN Learn?\n",
    "\n",
    "### Gradiant Descendent:\n",
    "\n",
    "1. **Stochastic Gradient Descendent:**\n",
    "If you apply gradient descendenet after every iteration. The example below is an instance of *Stochastic Gradient Descendent*.\n",
    "\n",
    "2. **Batch Gradient Descendent:**\n",
    "If you apply gradient descendent after every epoch.\n",
    "\n",
    "3. **Mini Batch Gradient Descendent:**\n",
    "If you apply gradient descendent after every few iterations. Number of iterations can be set manually."
   ]
  },
  {
   "cell_type": "markdown",
   "id": "6fad9536-fe7f-4c92-99b7-12beb80f6ae6",
   "metadata": {},
   "source": [
    "<table>\n",
    "<tr><th></th><th><th/><th></th></tr>\n",
    "<tr><td>\n",
    "\n",
    "|Height|Weight|Gender|\n",
    "|:---:|:---:|:---:|\n",
    "|180|90|E|\n",
    "|150|50|K|\n",
    "|190|100|E|\n",
    "|165|55|1|\n",
    "\n",
    "</td>\n",
    "<td><strong>Normalized =></strong></td>\n",
    "<td>\n",
    "\n",
    "|Height|Weight|Gender|\n",
    "|:---:|:---:|:---:|\n",
    "|0.75|0.8|0|\n",
    "|0|0|1|\n",
    "|1|1|0|\n",
    "|0.375|0.1|1|\n",
    "\n",
    "</td></tr> </table>"
   ]
  },
  {
   "cell_type": "markdown",
   "id": "8ea7326e-f1ab-43cd-818b-701ff511deeb",
   "metadata": {},
   "source": [
    "#### Steps 1-2)\n",
    "<div style=\"text-align:center\">\n",
    "    <img src=\"annl1.png\" width=\"650\"/>\n",
    "    <img src=\"annl2.png\" width=\"650\"/>\n",
    "</div>\n",
    "\n",
    "#### Steps 3-4)\n",
    "<div style=\"text-align:center\">\n",
    "    <img src=\"annl3.png\" width=\"650\"/>\n",
    "    <img src=\"annl4.png\" width=\"650\"/>\n",
    "</div>\n",
    "\n",
    "#### Steps 5-6)\n",
    "<div style=\"text-align:center\">\n",
    "    <img src=\"annl5.png\" width=\"650\"/>\n",
    "    <img src=\"annl6.png\" width=\"650\"/>\n",
    "</div>\n",
    "\n",
    "#### Steps 7-8)\n",
    "<div style=\"text-align:center\">\n",
    "    <img src=\"annl7.png\" width=\"650\"/>\n",
    "    <img src=\"annl8.png\" width=\"650\"/>\n",
    "</div>"
   ]
  },
  {
   "cell_type": "markdown",
   "id": "983a6dde-8e8f-4f61-86ba-2e4b41170b95",
   "metadata": {},
   "source": [
    "### Backward Propagation:\n",
    "\n",
    "1. Bütün ağı rastgele sayılarlar (sıfıra yakın ama sıfırdan farklı) ilkendir.\n",
    "2. Veri kümesinden ilk satır (her öznitelik bir nöron olacak şekilde) giriş katmanına verilir.\n",
    "3. **İleri yönlü yayılım yapılarak,** YSA istenen sonucu verene kadar güncellenir.\n",
    "4. Gerçek ve çıktı arasındaki fark alınarak hata (error) hesaplanır.\n",
    "5. **Geri yayılım yapılarak,** her sinapsis üzerindeki ağırlık, hatadan sorumlu olduğu miktarda değiştirilir. Değiştirilme miktarı ayrıca öğrenme oranına da bağlıdır.\n",
    "6. Adım 1-5 arasındaki adımları istenen sonucu elde edene kadar güncelle *(Takviyeli Öğrenme (Reinforced Learning))* veya eldeki bütün verileri ilgili ağda çalıştırdıktan sonra bir seferde güncelleme yap *(Yığın Öğrenme (Batch Learning))*."
   ]
  }
 ],
 "metadata": {
  "kernelspec": {
   "display_name": "Python 3 (ipykernel)",
   "language": "python",
   "name": "python3"
  },
  "language_info": {
   "codemirror_mode": {
    "name": "ipython",
    "version": 3
   },
   "file_extension": ".py",
   "mimetype": "text/x-python",
   "name": "python",
   "nbconvert_exporter": "python",
   "pygments_lexer": "ipython3",
   "version": "3.10.13"
  }
 },
 "nbformat": 4,
 "nbformat_minor": 5
}
